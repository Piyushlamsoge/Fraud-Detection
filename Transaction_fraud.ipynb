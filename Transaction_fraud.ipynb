{
  "cells": [
    {
      "cell_type": "markdown",
      "metadata": {
        "id": "view-in-github",
        "colab_type": "text"
      },
      "source": [
        "<a href=\"https://colab.research.google.com/github/Piyushlamsoge/Fraud_transcation/blob/main/Transaction_fraud.ipynb\" target=\"_parent\"><img src=\"https://colab.research.google.com/assets/colab-badge.svg\" alt=\"Open In Colab\"/></a>"
      ]
    },
    {
      "cell_type": "markdown",
      "source": [
        "# **Necessary package**"
      ],
      "metadata": {
        "id": "JTUgLWTWZrqV"
      }
    },
    {
      "cell_type": "code",
      "source": [
        "!pip install pandas faker"
      ],
      "metadata": {
        "colab": {
          "base_uri": "https://localhost:8080/"
        },
        "id": "G1Gg1YXiEAFM",
        "outputId": "0ecf804e-2cfd-4fda-97ba-1a16bf78b42a"
      },
      "execution_count": 23,
      "outputs": [
        {
          "output_type": "stream",
          "name": "stdout",
          "text": [
            "Looking in indexes: https://pypi.org/simple, https://us-python.pkg.dev/colab-wheels/public/simple/\n",
            "Requirement already satisfied: pandas in /usr/local/lib/python3.10/dist-packages (1.5.3)\n",
            "Requirement already satisfied: faker in /usr/local/lib/python3.10/dist-packages (18.10.1)\n",
            "Requirement already satisfied: python-dateutil>=2.8.1 in /usr/local/lib/python3.10/dist-packages (from pandas) (2.8.2)\n",
            "Requirement already satisfied: pytz>=2020.1 in /usr/local/lib/python3.10/dist-packages (from pandas) (2022.7.1)\n",
            "Requirement already satisfied: numpy>=1.21.0 in /usr/local/lib/python3.10/dist-packages (from pandas) (1.22.4)\n",
            "Requirement already satisfied: six>=1.5 in /usr/local/lib/python3.10/dist-packages (from python-dateutil>=2.8.1->pandas) (1.16.0)\n"
          ]
        }
      ]
    },
    {
      "cell_type": "markdown",
      "source": [
        "# **Dataset Creation Using Faker**"
      ],
      "metadata": {
        "id": "i_i6RbbkXVRf"
      }
    },
    {
      "cell_type": "code",
      "source": [
        "# EXAMPLE 2\n",
        "\n",
        "import pandas as pd\n",
        "from faker import Faker\n",
        "from random import randint, uniform, choice\n",
        "\n",
        "# Set seed for reproducibility\n",
        "Faker.seed(42)\n",
        "\n",
        "# Create Faker instance\n",
        "fake = Faker()\n",
        "\n",
        "# Generate fake data\n",
        "data = []\n",
        "for _ in range(10000):\n",
        "    transaction_id = fake.uuid4()\n",
        "    user_id = randint(1, 1000)\n",
        "    transaction_amount = round(uniform(1, 10000), 2)\n",
        "    transaction_date = fake.date_between(start_date='-1y', end_date='today')\n",
        "    is_foreign_transaction = randint(0, 1)\n",
        "    transaction_type = choice(['purchase', 'refund', 'cash withdrawal'])\n",
        "    data.append([transaction_id, user_id, transaction_amount, transaction_date, is_foreign_transaction, transaction_type])\n",
        "\n",
        "# Create DataFrame from generated data\n",
        "columns = ['transaction_id', 'user_id', 'transaction_amount', 'transaction_date', 'is_foreign_transaction', 'transaction_type']\n",
        "df = pd.DataFrame(data, columns=columns)\n",
        "\n",
        "# Save DataFrame to CSV\n",
        "df.to_csv('fraud_dataset.csv', index=False)\n"
      ],
      "metadata": {
        "id": "M6fh6ArRVh4I"
      },
      "execution_count": 20,
      "outputs": []
    },
    {
      "cell_type": "markdown",
      "source": [
        "# **Fraud Logic Code**"
      ],
      "metadata": {
        "id": "9clKa0mXZI3p"
      }
    },
    {
      "cell_type": "code",
      "source": [
        "import pandas as pd\n",
        "from datetime import datetime, timedelta\n",
        "\n",
        "# Read the fraud dataset from the CSV file\n",
        "df = pd.read_csv('fraud_dataset.csv')\n",
        "\n",
        "# Define the fraud detection criteria\n",
        "threshold_amount = 100000\n",
        "threshold_locations = 3\n",
        "threshold_days = 1\n",
        "\n",
        "# Apply fraud detection logic\n",
        "is_fraud = (\n",
        "    (df['transaction_amount'] > threshold_amount) |\n",
        "    (df.groupby('user_id')['transaction_type'].transform('nunique') > threshold_locations) |\n",
        "    (pd.to_datetime(df['transaction_date']) >= datetime.now() - timedelta(days=threshold_days)) |\n",
        "    (df['is_foreign_transaction'] == 1)\n",
        ")\n",
        "\n",
        "# Update the 'is_fraud' column in the dataframe\n",
        "df['is_fraud'] = is_fraud.astype(int)\n",
        "\n",
        "# Print flagged fraud transactions\n",
        "fraud_transactions = df[df['is_fraud'] == 1]\n",
        "print(fraud_transactions)\n"
      ],
      "metadata": {
        "colab": {
          "base_uri": "https://localhost:8080/"
        },
        "id": "Oc0H7F5uVyMt",
        "outputId": "65af0305-01e1-4e80-ea70-e1134f22c35a"
      },
      "execution_count": 21,
      "outputs": [
        {
          "output_type": "stream",
          "name": "stdout",
          "text": [
            "                            transaction_id  user_id  transaction_amount  \\\n",
            "0     bdd640fb-0667-4ad1-9c80-317fa3b1799d      896             8736.93   \n",
            "1     bc8960a9-23b8-41e9-b924-56de3eb13b90      389             7469.28   \n",
            "3     07a0ca6e-0822-48f3-ac03-1199972a8469      295             3633.25   \n",
            "5     a65ed389-b74d-4fb1-b2e7-06298fadc1a6      189             2554.78   \n",
            "7     01a9e71f-de8a-474b-8f36-d58b47378190      444             9752.11   \n",
            "...                                    ...      ...                 ...   \n",
            "9990  89199f95-678d-4bb9-9f9d-8ee5bd742407      205             4014.38   \n",
            "9993  a3565dd0-ed88-4e88-9b18-4e8c7fccf867       36             6940.47   \n",
            "9995  61a7442f-c772-42ba-9187-f45a9e47cedc      854             7991.35   \n",
            "9998  02d8eb63-00fe-4ccc-bee9-d208161b0d82      565              227.53   \n",
            "9999  a97c0644-239f-4c50-bafb-233e91968637       53             4373.96   \n",
            "\n",
            "     transaction_date  is_foreign_transaction transaction_type  is_fraud  \n",
            "0          2022-09-23                       1           refund         1  \n",
            "1          2022-07-18                       1  cash withdrawal         1  \n",
            "3          2022-07-15                       1         purchase         1  \n",
            "5          2023-03-08                       1         purchase         1  \n",
            "7          2023-03-30                       1         purchase         1  \n",
            "...               ...                     ...              ...       ...  \n",
            "9990       2022-08-02                       1         purchase         1  \n",
            "9993       2022-11-12                       1         purchase         1  \n",
            "9995       2022-08-04                       1           refund         1  \n",
            "9998       2022-10-21                       1           refund         1  \n",
            "9999       2023-04-15                       1           refund         1  \n",
            "\n",
            "[4952 rows x 7 columns]\n"
          ]
        }
      ]
    },
    {
      "cell_type": "markdown",
      "source": [
        "# **Analysis of Fraud Detection system**"
      ],
      "metadata": {
        "id": "Ls32siWIZWDF"
      }
    },
    {
      "cell_type": "code",
      "source": [
        "# Analyze the flagged fraud transactions\n",
        "flagged_transactions = df[df['is_fraud'] == 1]\n",
        "\n",
        "# Print the count of flagged fraud transactions\n",
        "print(\"Total flagged fraud transactions:\", len(flagged_transactions))\n",
        "\n",
        "# Calculate the percentage of flagged fraud transactions\n",
        "percentage_fraud_transactions = (len(flagged_transactions) / len(df)) * 100\n",
        "print(\"Percentage of flagged fraud transactions: {:.2f}%\".format(percentage_fraud_transactions))\n",
        "\n",
        "# Print the distribution of flagged fraud transactions by transaction type\n",
        "fraud_transactions_by_type = flagged_transactions['transaction_type'].value_counts()\n",
        "print(\"Flagged fraud transactions distribution by transaction type:\")\n",
        "print(fraud_transactions_by_type)\n",
        "\n",
        "# Calculate the average transaction amount of flagged fraud transactions\n",
        "average_fraud_transaction_amount = flagged_transactions['transaction_amount'].mean()\n",
        "print(\"Average transaction amount of flagged fraud transactions: {:.2f}\".format(average_fraud_transaction_amount))\n",
        "\n",
        "# Calculate the maximum transaction amount among flagged fraud transactions\n",
        "max_fraud_transaction_amount = flagged_transactions['transaction_amount'].max()\n",
        "print(\"Maximum transaction amount among flagged fraud transactions: {:.2f}\".format(max_fraud_transaction_amount))\n",
        "\n",
        "# Print the flagged fraud transactions with the highest transaction amount\n",
        "highest_amount_fraud_transactions = flagged_transactions[flagged_transactions['transaction_amount'] == max_fraud_transaction_amount]\n",
        "print(\"Flagged fraud transactions with the highest transaction amount:\")\n",
        "print(highest_amount_fraud_transactions)\n"
      ],
      "metadata": {
        "colab": {
          "base_uri": "https://localhost:8080/"
        },
        "id": "lMX2fpFDWTzB",
        "outputId": "d5844bbe-5f2e-4885-a1d4-f467e1db4d59"
      },
      "execution_count": 22,
      "outputs": [
        {
          "output_type": "stream",
          "name": "stdout",
          "text": [
            "Total flagged fraud transactions: 4952\n",
            "Percentage of flagged fraud transactions: 49.52%\n",
            "Flagged fraud transactions distribution by transaction type:\n",
            "cash withdrawal    1697\n",
            "purchase           1654\n",
            "refund             1601\n",
            "Name: transaction_type, dtype: int64\n",
            "Average transaction amount of flagged fraud transactions: 4942.22\n",
            "Maximum transaction amount among flagged fraud transactions: 9998.92\n",
            "Flagged fraud transactions with the highest transaction amount:\n",
            "                            transaction_id  user_id  transaction_amount  \\\n",
            "3769  33f92a87-8372-4123-9ed7-a652de2bfe58      566             9998.92   \n",
            "\n",
            "     transaction_date  is_foreign_transaction transaction_type  is_fraud  \n",
            "3769       2023-04-07                       1  cash withdrawal         1  \n"
          ]
        }
      ]
    }
  ],
  "metadata": {
    "colab": {
      "provenance": [],
      "include_colab_link": true
    },
    "kernelspec": {
      "display_name": "Python 3",
      "name": "python3"
    }
  },
  "nbformat": 4,
  "nbformat_minor": 0
}